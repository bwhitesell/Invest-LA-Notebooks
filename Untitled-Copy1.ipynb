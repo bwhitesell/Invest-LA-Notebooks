{
 "cells": [
  {
   "cell_type": "code",
   "execution_count": 1,
   "metadata": {},
   "outputs": [
    {
     "name": "stdout",
     "output_type": "stream",
     "text": [
      "PySpark initiated...\n"
     ]
    }
   ],
   "source": [
    "import findspark\n",
    "findspark.init()\n",
    "import pyspark\n",
    "import pyspark.sql\n",
    "from pyspark import SparkConf\n",
    "from pyspark.sql import Row\n",
    "import pymongo\n",
    "import datetime\n",
    "import json\n",
    "import random\n",
    "\n",
    "APP_NAME = 'ETL_REPRO'\n",
    "\n",
    "sc = pyspark.sql.SparkSession.builder.appName(APP_NAME).getOrCreate()\n",
    "\n",
    "print(\"PySpark initiated...\")\n"
   ]
  },
  {
   "cell_type": "code",
   "execution_count": 2,
   "metadata": {},
   "outputs": [],
   "source": [
    "from datetime import timedelta\n",
    "from calendar import monthrange\n",
    "\n",
    "date = datetime.datetime(year=2018, month=11, day=1)\n",
    "pred_duration = timedelta(monthrange(date.year, date.month)[1])"
   ]
  },
  {
   "cell_type": "code",
   "execution_count": 3,
   "metadata": {},
   "outputs": [],
   "source": [
    "data = sc.read.format(\"com.mongodb.spark.sql.DefaultSource\").option(\"uri\",\n",
    "    \"mongodb://localhost:27017/Housing.CPOT\").load()\n",
    "preds = sc.read.format(\"com.mongodb.spark.sql.DefaultSource\").option(\"uri\",\n",
    "    \"mongodb://localhost:27017/Housing.predictions\").load()"
   ]
  },
  {
   "cell_type": "code",
   "execution_count": 4,
   "metadata": {},
   "outputs": [],
   "source": [
    "data = data.select('_id', 'data.ain', 'data.RecordingDate', 'data.DTTSalePrice')\n",
    "preds = preds.select('ain', 'pred_date', 'prediction')"
   ]
  },
  {
   "cell_type": "code",
   "execution_count": 5,
   "metadata": {},
   "outputs": [],
   "source": [
    "data = data.filter(data.RecordingDate < date + pred_duration)\n",
    "data = data.filter(data.RecordingDate > date)\n"
   ]
  },
  {
   "cell_type": "code",
   "execution_count": 6,
   "metadata": {},
   "outputs": [
    {
     "data": {
      "text/plain": [
       "11"
      ]
     },
     "execution_count": 6,
     "metadata": {},
     "output_type": "execute_result"
    }
   ],
   "source": [
    "data.count()"
   ]
  },
  {
   "cell_type": "code",
   "execution_count": null,
   "metadata": {},
   "outputs": [],
   "source": []
  }
 ],
 "metadata": {
  "kernelspec": {
   "display_name": "Python 3",
   "language": "python",
   "name": "python3"
  },
  "language_info": {
   "codemirror_mode": {
    "name": "ipython",
    "version": 3
   },
   "file_extension": ".py",
   "mimetype": "text/x-python",
   "name": "python",
   "nbconvert_exporter": "python",
   "pygments_lexer": "ipython3",
   "version": "3.6.7"
  }
 },
 "nbformat": 4,
 "nbformat_minor": 2
}
